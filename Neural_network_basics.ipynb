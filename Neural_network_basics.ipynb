{
 "cells": [
  {
   "cell_type": "code",
   "execution_count": 1,
   "metadata": {
    "ExecuteTime": {
     "end_time": "2020-09-15T00:38:23.297427Z",
     "start_time": "2020-09-15T00:38:13.716029Z"
    }
   },
   "outputs": [
    {
     "name": "stdout",
     "output_type": "stream",
     "text": [
      "2.1.0 2.2.4-tf\n"
     ]
    }
   ],
   "source": [
    "# Cheking the version of the tesorflow and keras and other libraries\n",
    "import tensorflow as tf\n",
    "from tensorflow import keras\n",
    "print(tf.__version__, keras.__version__)\n",
    "\n",
    "import numpy as np\n",
    "import matplotlib.pyplot as plt\n",
    "import pandas as pd\n",
    "%matplotlib inline\n",
    "\n",
    "import sklearn "
   ]
  },
  {
   "cell_type": "markdown",
   "metadata": {},
   "source": [
    "## Building an Image Classifier Using the Sequential API"
   ]
  },
  {
   "cell_type": "code",
   "execution_count": 2,
   "metadata": {
    "ExecuteTime": {
     "end_time": "2020-09-15T00:38:25.430068Z",
     "start_time": "2020-09-15T00:38:24.972359Z"
    }
   },
   "outputs": [],
   "source": [
    "# using the digits mnist dataset from keras\n",
    "digits_mnist = keras.datasets.mnist\n",
    "(X_train , y_train ) , (X_test, y_test) = digits_mnist.load_data()"
   ]
  },
  {
   "cell_type": "code",
   "execution_count": 3,
   "metadata": {
    "ExecuteTime": {
     "end_time": "2020-09-15T00:38:26.200777Z",
     "start_time": "2020-09-15T00:38:26.192116Z"
    }
   },
   "outputs": [
    {
     "data": {
      "text/plain": [
       "((60000, 28, 28), dtype('uint8'))"
      ]
     },
     "execution_count": 3,
     "metadata": {},
     "output_type": "execute_result"
    }
   ],
   "source": [
    "# Shape of the dataset and its type\n",
    "X_train.shape , X_train.dtype"
   ]
  },
  {
   "cell_type": "code",
   "execution_count": 4,
   "metadata": {
    "ExecuteTime": {
     "end_time": "2020-09-15T00:38:27.828750Z",
     "start_time": "2020-09-15T00:38:27.816101Z"
    }
   },
   "outputs": [
    {
     "data": {
      "text/plain": [
       "28"
      ]
     },
     "execution_count": 4,
     "metadata": {},
     "output_type": "execute_result"
    }
   ],
   "source": [
    "# Now a single image is consists of an 28x28 array where each pixel is either represented with an \n",
    "# pixel density of 0 as black and 255 as white.. since we are going to use gradient descent we have \n",
    "# to scale the input feautures by diving them by 255\n",
    "len(X_test[0])"
   ]
  },
  {
   "cell_type": "code",
   "execution_count": 5,
   "metadata": {
    "ExecuteTime": {
     "end_time": "2020-09-15T00:38:30.716825Z",
     "start_time": "2020-09-15T00:38:30.339420Z"
    }
   },
   "outputs": [],
   "source": [
    "# Scaling the data to of 0 to 255 to 0 to 1 by dividing it by 255\n",
    "X_train ,  X_test = X_train/255 ,  X_test/255"
   ]
  },
  {
   "cell_type": "code",
   "execution_count": 6,
   "metadata": {
    "ExecuteTime": {
     "end_time": "2020-09-15T00:38:35.251099Z",
     "start_time": "2020-09-15T00:38:35.243563Z"
    }
   },
   "outputs": [
    {
     "data": {
      "text/plain": [
       "['zero',\n",
       " 'one',\n",
       " 'two',\n",
       " 'three',\n",
       " 'four',\n",
       " 'five',\n",
       " 'six',\n",
       " 'seven',\n",
       " 'eight',\n",
       " 'nine']"
      ]
     },
     "execution_count": 6,
     "metadata": {},
     "output_type": "execute_result"
    }
   ],
   "source": [
    "# Writing the class_name for each output\n",
    "class_names = ['zero','one','two','three','four','five','six','seven','eight','nine']\n",
    "class_names"
   ]
  },
  {
   "cell_type": "code",
   "execution_count": 7,
   "metadata": {
    "ExecuteTime": {
     "end_time": "2020-09-15T00:38:36.551360Z",
     "start_time": "2020-09-15T00:38:36.544731Z"
    }
   },
   "outputs": [
    {
     "data": {
      "text/plain": [
       "('five', 5)"
      ]
     },
     "execution_count": 7,
     "metadata": {},
     "output_type": "execute_result"
    }
   ],
   "source": [
    "# Using the values of target variables as index for \n",
    "class_names[y_train[0]], y_train[0]"
   ]
  },
  {
   "cell_type": "code",
   "execution_count": 8,
   "metadata": {
    "ExecuteTime": {
     "end_time": "2020-09-15T00:38:41.086487Z",
     "start_time": "2020-09-15T00:38:37.976190Z"
    }
   },
   "outputs": [],
   "source": [
    "# BUilding an sequential API model (A Classification MLP with tow hidden layers)\n",
    "model = keras.models.Sequential()\n",
    "model.add(keras.layers.Flatten(input_shape=[28,28])) # adding the input layer\n",
    "model.add(keras.layers.Dense(300, activation='relu')) # Adding the first hidden layer\n",
    "model.add(keras.layers.Dense(100, activation='relu')) # Adding the second hidden layer\n",
    "model.add(keras.layers.Dense(10, activation='softmax')) # Adding the final output layer having the softmax as the activation system for the classification problem\n"
   ]
  },
  {
   "cell_type": "markdown",
   "metadata": {},
   "source": [
    "### Explanation\n",
    "* Sequential model is the simplest model in keras for neural networks , just composed of single stack of layers connected squentially called Sequential API\n",
    "* Flatten is used to convert the each input pixel in the 28x28 to one single array (i.e X.reshape(-1,1)\n",
    "* Dense is the hidden layer with 300 neurons \n",
    "#### Note : You can even pass them on as a string"
   ]
  },
  {
   "cell_type": "code",
   "execution_count": 9,
   "metadata": {
    "ExecuteTime": {
     "end_time": "2020-09-15T00:38:42.409859Z",
     "start_time": "2020-09-15T00:38:42.402157Z"
    }
   },
   "outputs": [
    {
     "name": "stdout",
     "output_type": "stream",
     "text": [
      "Model: \"sequential\"\n",
      "_________________________________________________________________\n",
      "Layer (type)                 Output Shape              Param #   \n",
      "=================================================================\n",
      "flatten (Flatten)            (None, 784)               0         \n",
      "_________________________________________________________________\n",
      "dense (Dense)                (None, 300)               235500    \n",
      "_________________________________________________________________\n",
      "dense_1 (Dense)              (None, 100)               30100     \n",
      "_________________________________________________________________\n",
      "dense_2 (Dense)              (None, 10)                1010      \n",
      "=================================================================\n",
      "Total params: 266,610\n",
      "Trainable params: 266,610\n",
      "Non-trainable params: 0\n",
      "_________________________________________________________________\n"
     ]
    }
   ],
   "source": [
    "model.summary()"
   ]
  },
  {
   "cell_type": "code",
   "execution_count": 10,
   "metadata": {
    "ExecuteTime": {
     "end_time": "2020-09-15T00:38:44.778614Z",
     "start_time": "2020-09-15T00:38:44.766703Z"
    }
   },
   "outputs": [
    {
     "data": {
      "text/plain": [
       "(array([[-0.01066726,  0.03337234,  0.04074413, ...,  0.01031884,\n",
       "          0.00078474,  0.00863229],\n",
       "        [-0.00483905,  0.06965329,  0.05934672, ..., -0.04837134,\n",
       "          0.02393696,  0.03967855],\n",
       "        [ 0.07332075,  0.04683173, -0.0599371 , ..., -0.00299703,\n",
       "         -0.01253302,  0.06457785],\n",
       "        ...,\n",
       "        [ 0.06573886, -0.01470464,  0.00056303, ...,  0.07244097,\n",
       "          0.03023527, -0.06934246],\n",
       "        [ 0.03579719,  0.00389159, -0.02827678, ..., -0.04895887,\n",
       "          0.06642489,  0.07251404],\n",
       "        [-0.05407833, -0.02319343,  0.02508876, ..., -0.05169282,\n",
       "         -0.0061086 , -0.02059001]], dtype=float32),\n",
       " (784, 300))"
      ]
     },
     "execution_count": 10,
     "metadata": {},
     "output_type": "execute_result"
    }
   ],
   "source": [
    "#  Extracting the weigths and biases of the hidden layers\n",
    "hidden1 = model.layers[1] # Extracting info about the first layer\n",
    "weights , biases = hidden1.get_weights()\n",
    "# Notice at first the weights are assigned randomly to each neuron to break the symmetry\n",
    "weights , weights.shape"
   ]
  },
  {
   "cell_type": "code",
   "execution_count": 11,
   "metadata": {
    "ExecuteTime": {
     "end_time": "2020-09-15T00:38:45.639009Z",
     "start_time": "2020-09-15T00:38:45.627876Z"
    }
   },
   "outputs": [
    {
     "data": {
      "text/plain": [
       "(array([0., 0., 0., 0., 0., 0., 0., 0., 0., 0., 0., 0., 0., 0., 0., 0., 0.,\n",
       "        0., 0., 0., 0., 0., 0., 0., 0., 0., 0., 0., 0., 0., 0., 0., 0., 0.,\n",
       "        0., 0., 0., 0., 0., 0., 0., 0., 0., 0., 0., 0., 0., 0., 0., 0., 0.,\n",
       "        0., 0., 0., 0., 0., 0., 0., 0., 0., 0., 0., 0., 0., 0., 0., 0., 0.,\n",
       "        0., 0., 0., 0., 0., 0., 0., 0., 0., 0., 0., 0., 0., 0., 0., 0., 0.,\n",
       "        0., 0., 0., 0., 0., 0., 0., 0., 0., 0., 0., 0., 0., 0., 0., 0., 0.,\n",
       "        0., 0., 0., 0., 0., 0., 0., 0., 0., 0., 0., 0., 0., 0., 0., 0., 0.,\n",
       "        0., 0., 0., 0., 0., 0., 0., 0., 0., 0., 0., 0., 0., 0., 0., 0., 0.,\n",
       "        0., 0., 0., 0., 0., 0., 0., 0., 0., 0., 0., 0., 0., 0., 0., 0., 0.,\n",
       "        0., 0., 0., 0., 0., 0., 0., 0., 0., 0., 0., 0., 0., 0., 0., 0., 0.,\n",
       "        0., 0., 0., 0., 0., 0., 0., 0., 0., 0., 0., 0., 0., 0., 0., 0., 0.,\n",
       "        0., 0., 0., 0., 0., 0., 0., 0., 0., 0., 0., 0., 0., 0., 0., 0., 0.,\n",
       "        0., 0., 0., 0., 0., 0., 0., 0., 0., 0., 0., 0., 0., 0., 0., 0., 0.,\n",
       "        0., 0., 0., 0., 0., 0., 0., 0., 0., 0., 0., 0., 0., 0., 0., 0., 0.,\n",
       "        0., 0., 0., 0., 0., 0., 0., 0., 0., 0., 0., 0., 0., 0., 0., 0., 0.,\n",
       "        0., 0., 0., 0., 0., 0., 0., 0., 0., 0., 0., 0., 0., 0., 0., 0., 0.,\n",
       "        0., 0., 0., 0., 0., 0., 0., 0., 0., 0., 0., 0., 0., 0., 0., 0., 0.,\n",
       "        0., 0., 0., 0., 0., 0., 0., 0., 0., 0., 0.], dtype=float32),\n",
       " (300,))"
      ]
     },
     "execution_count": 11,
     "metadata": {},
     "output_type": "execute_result"
    }
   ],
   "source": [
    "# All the biases are initialized to zero\n",
    "biases, biases.shape"
   ]
  },
  {
   "cell_type": "markdown",
   "metadata": {
    "ExecuteTime": {
     "end_time": "2020-09-12T06:40:52.684037Z",
     "start_time": "2020-09-12T06:40:52.671999Z"
    }
   },
   "source": [
    "### Compiling the model\n",
    "* After the model is created , you must call compile() . to spcify the loss function ans the optimizer to use. and other metrics to compute during the training and evaluation.\n"
   ]
  },
  {
   "cell_type": "code",
   "execution_count": 12,
   "metadata": {
    "ExecuteTime": {
     "end_time": "2020-09-15T00:38:48.113809Z",
     "start_time": "2020-09-15T00:38:48.032230Z"
    }
   },
   "outputs": [],
   "source": [
    "model.compile(loss='sparse_categorical_crossentropy',\n",
    "             optimizer = 'sgd',\n",
    "             metrics = ['accuracy'])"
   ]
  },
  {
   "cell_type": "markdown",
   "metadata": {},
   "source": [
    "### Explanation\n",
    "* `sparse_categorical_crossentropy` - loss is used coz we have sparse labels , for each instance there is just one target index from 0 to 9 in this case . and the classes are exclusive.\n",
    "* IF we had one hot encoded vectors ex.[0,0,0,1,0,...] to represent class 3 then we had to use  `\"categorical_crossentropy\"` loss instead\n",
    "* For binary classification with more than one binary labels . we use `sigmoid` i.e logistic activation in the output intead of the \"softmax\" activitation function , `binary_crossentropy` loss instead "
   ]
  },
  {
   "cell_type": "code",
   "execution_count": 13,
   "metadata": {
    "ExecuteTime": {
     "end_time": "2020-09-15T00:38:50.100488Z",
     "start_time": "2020-09-15T00:38:50.096804Z"
    }
   },
   "outputs": [],
   "source": [
    "### `sgd` -> Stochastic Gradient Descent and the learning rate is defaulted to lr=0.01 "
   ]
  },
  {
   "cell_type": "code",
   "execution_count": 14,
   "metadata": {
    "ExecuteTime": {
     "end_time": "2020-09-15T00:38:50.693255Z",
     "start_time": "2020-09-15T00:38:50.686468Z"
    }
   },
   "outputs": [],
   "source": [
    "def plot_loss_analysis(history):\n",
    "    plt.style.use('ggplot')\n",
    "    pd.DataFrame(history.history).plot(figsize=(8,6))\n",
    "    plt.title('The mean training loss and accuracy at each epoch')\n",
    "    plt.xlabel('EPOCH(Iteration)')\n",
    "    plt.grid(True)\n",
    "    plt.gca().set_ylim(0,1) # Set the vertical range to [0-1]\n",
    "    plt.show()"
   ]
  },
  {
   "cell_type": "code",
   "execution_count": 15,
   "metadata": {
    "ExecuteTime": {
     "end_time": "2020-09-15T00:41:40.880087Z",
     "start_time": "2020-09-15T00:39:10.465083Z"
    }
   },
   "outputs": [
    {
     "name": "stdout",
     "output_type": "stream",
     "text": [
      "Train on 48000 samples, validate on 12000 samples\n",
      "Epoch 1/10\n",
      "48000/48000 [==============================] - 12s 246us/sample - loss: 0.6602 - accuracy: 0.8326 - val_loss: 0.3230 - val_accuracy: 0.9103\n",
      "Epoch 2/10\n",
      "48000/48000 [==============================] - 15s 309us/sample - loss: 0.3051 - accuracy: 0.9132 - val_loss: 0.2559 - val_accuracy: 0.9273\n",
      "Epoch 3/10\n",
      "48000/48000 [==============================] - 15s 314us/sample - loss: 0.2497 - accuracy: 0.9286 - val_loss: 0.2208 - val_accuracy: 0.9388\n",
      "Epoch 4/10\n",
      "48000/48000 [==============================] - 16s 343us/sample - loss: 0.2134 - accuracy: 0.9386 - val_loss: 0.1950 - val_accuracy: 0.9447\n",
      "Epoch 5/10\n",
      "48000/48000 [==============================] - 16s 341us/sample - loss: 0.1867 - accuracy: 0.9467 - val_loss: 0.1770 - val_accuracy: 0.9518\n",
      "Epoch 6/10\n",
      "48000/48000 [==============================] - 15s 312us/sample - loss: 0.1653 - accuracy: 0.9523 - val_loss: 0.1599 - val_accuracy: 0.9557\n",
      "Epoch 7/10\n",
      "48000/48000 [==============================] - 15s 312us/sample - loss: 0.1489 - accuracy: 0.9574 - val_loss: 0.1515 - val_accuracy: 0.9578\n",
      "Epoch 8/10\n",
      "48000/48000 [==============================] - 15s 309us/sample - loss: 0.1353 - accuracy: 0.9612 - val_loss: 0.1396 - val_accuracy: 0.9620\n",
      "Epoch 9/10\n",
      "48000/48000 [==============================] - 15s 318us/sample - loss: 0.1231 - accuracy: 0.9648 - val_loss: 0.1319 - val_accuracy: 0.9624\n",
      "Epoch 10/10\n",
      "48000/48000 [==============================] - 15s 312us/sample - loss: 0.1132 - accuracy: 0.9680 - val_loss: 0.1290 - val_accuracy: 0.9635\n"
     ]
    },
    {
     "data": {
      "image/png": "[encoded data removed]",
      "text/plain": [
       "<Figure size 576x432 with 1 Axes>"
      ]
     },
     "metadata": {},
     "output_type": "display_data"
    }
   ],
   "source": [
    "## Training and evaluating the model\n",
    "# Call back for saving the best model \n",
    "checkpoint_cb_best_model = keras.callbacks.ModelCheckpoint('Digits_Sequantial_API.h5',\n",
    "                                                              save_best_only=True)\n",
    "\n",
    "# Early stopping the model , if validation accuracy does not see any improvement \n",
    "early_stopping_cb = keras.callbacks.EarlyStopping(patience=10,\n",
    "                                                 restore_best_weights=True)\n",
    "\n",
    "# This stops the algorithm if its accuracy does not increase at a patience threhold of 10 \n",
    "history = model.fit(X_train, y_train, epochs=10,\n",
    "                   validation_split=0.2,\n",
    "                   callbacks=[checkpoint_cb_best_model, early_stopping_cb],\n",
    "                   batch_size=32)\n",
    "\n",
    "#  Instead of creating a validation data and passing it other wise we could also set the \n",
    "# validation_split=0.1 (10%) tell keras to use 10% of the data for validation\n",
    "# class_weight gives more weight to underpresent clasees and vice versa\n",
    "# Use batch_size to change the number of samples per gradient descent default = 32\n",
    "# Using history parameter\n",
    "plot_loss_analysis(history)"
   ]
  },
  {
   "cell_type": "code",
   "execution_count": 16,
   "metadata": {
    "ExecuteTime": {
     "end_time": "2020-09-15T00:49:18.162296Z",
     "start_time": "2020-09-15T00:49:16.499318Z"
    }
   },
   "outputs": [
    {
     "name": "stdout",
     "output_type": "stream",
     "text": [
      "10000/10000 [==============================] - 2s 161us/sample - loss: 0.1239 - accuracy: 0.9636\n"
     ]
    },
    {
     "data": {
      "text/plain": [
       "[0.1239378461457789, 0.9636]"
      ]
     },
     "execution_count": 16,
     "metadata": {},
     "output_type": "execute_result"
    }
   ],
   "source": [
    "## Evaluating the model on the test data\n",
    "model.evaluate(X_test, y_test)"
   ]
  },
  {
   "cell_type": "markdown",
   "metadata": {},
   "source": [
    "### Hyper Parameter Tuning\n",
    "Using sklearn wrapper in keras module to use randomizedSearchCV to find the best parameter"
   ]
  },
  {
   "cell_type": "code",
   "execution_count": 16,
   "metadata": {
    "ExecuteTime": {
     "end_time": "2020-09-14T13:49:46.235723Z",
     "start_time": "2020-09-14T13:49:46.231726Z"
    }
   },
   "outputs": [],
   "source": [
    "# Creating a build model fucntion to create the base for the sklearn wrapper \n",
    "def build_model(n_layers = 2, n_neurons=100 , \n",
    "                learning_rate = 3e-3 , input_shape=[28,28]):\n",
    "    model = keras.models.Sequential()\n",
    "    model.add(keras.layers.InputLayer(input_shape=input_shape))\n",
    "    for layer in range(n_layers):\n",
    "        model.add(keras.layers.Dense(n_neurons, activation='relu'))\n",
    "    model.add(keras.layers.Dense(10, activation='softmax'))\n",
    "    optimizer = keras.optimizers.SGD(learning_rate=learning_rate)\n",
    "    model.compile(optimizer=optimizer,\n",
    "                 loss='sparse_categorical_crossentropy',\n",
    "                 metrics=['accuracy'])\n",
    "    return model"
   ]
  },
  {
   "cell_type": "code",
   "execution_count": null,
   "metadata": {},
   "outputs": [],
   "source": []
  },
  {
   "cell_type": "code",
   "execution_count": 17,
   "metadata": {
    "ExecuteTime": {
     "end_time": "2020-09-14T13:49:46.316530Z",
     "start_time": "2020-09-14T13:49:46.237479Z"
    }
   },
   "outputs": [],
   "source": [
    "# Using the model to make prediction\n",
    "X_new = X_test[:3]\n",
    "y_proba = model.predict(X_new)"
   ]
  },
  {
   "cell_type": "code",
   "execution_count": 18,
   "metadata": {
    "ExecuteTime": {
     "end_time": "2020-09-14T13:49:46.324490Z",
     "start_time": "2020-09-14T13:49:46.317758Z"
    }
   },
   "outputs": [
    {
     "data": {
      "text/plain": [
       "array([[0.1 , 0.11, 0.1 , 0.1 , 0.1 , 0.09, 0.1 , 0.1 , 0.1 , 0.1 ],\n",
       "       [0.1 , 0.11, 0.1 , 0.1 , 0.1 , 0.09, 0.1 , 0.1 , 0.1 , 0.1 ],\n",
       "       [0.1 , 0.11, 0.1 , 0.1 , 0.1 , 0.09, 0.1 , 0.1 , 0.1 , 0.1 ]],\n",
       "      dtype=float32)"
      ]
     },
     "execution_count": 18,
     "metadata": {},
     "output_type": "execute_result"
    }
   ],
   "source": [
    "# As you can see the for each instance the model estimates one probability per class from 0 to 9\n",
    "# ex. in the second case its prob is 100% on index 2 meaning the value is 2 \n",
    "y_proba.round(2)"
   ]
  },
  {
   "cell_type": "code",
   "execution_count": 19,
   "metadata": {
    "ExecuteTime": {
     "end_time": "2020-09-14T13:49:46.370494Z",
     "start_time": "2020-09-14T13:49:46.325525Z"
    }
   },
   "outputs": [
    {
     "data": {
      "text/plain": [
       "array(['one', 'one', 'one'], dtype='<U5')"
      ]
     },
     "execution_count": 19,
     "metadata": {},
     "output_type": "execute_result"
    }
   ],
   "source": [
    "# To find the classes with the highest probability use predict_classes\n",
    "y_pred = model.predict_classes(X_new)\n",
    "y_pred\n",
    "y_pred_string = np.array(class_names)[y_pred]\n",
    "y_pred_string               # to use y_pred as index to the class_name list"
   ]
  },
  {
   "cell_type": "code",
   "execution_count": 20,
   "metadata": {
    "ExecuteTime": {
     "end_time": "2020-09-14T13:49:46.378526Z",
     "start_time": "2020-09-14T13:49:46.372515Z"
    }
   },
   "outputs": [
    {
     "data": {
      "text/plain": [
       "array([7, 2, 1], dtype=uint8)"
      ]
     },
     "execution_count": 20,
     "metadata": {},
     "output_type": "execute_result"
    }
   ],
   "source": [
    "# Here are the actual values of the images using the test set\n",
    "y_new = y_test[:3]\n",
    "y_new"
   ]
  },
  {
   "cell_type": "code",
   "execution_count": 21,
   "metadata": {
    "ExecuteTime": {
     "end_time": "2020-09-14T13:49:46.751821Z",
     "start_time": "2020-09-14T13:49:46.380432Z"
    }
   },
   "outputs": [
    {
     "data": {
      "image/png": "[encoded data removed]",
      "text/plain": [
       "<Figure size 864x432 with 3 Axes>"
      ]
     },
     "metadata": {},
     "output_type": "display_data"
    }
   ],
   "source": [
    "# Here we can see the image with the value it has predicted\n",
    "fig, ax = plt.subplots(1,3,figsize=(12,6))\n",
    "for axs,j,k in zip(ax.flat,X_new[:3],[0,1,2]):\n",
    "    axs.imshow(j)\n",
    "    axs.grid(False,)\n",
    "    axs.set_title(f'Predicted: {y_pred_string[k]}',color='red')\n",
    "plt.show()"
   ]
  },
  {
   "cell_type": "code",
   "execution_count": 22,
   "metadata": {
    "ExecuteTime": {
     "end_time": "2020-09-14T13:49:46.760389Z",
     "start_time": "2020-09-14T13:49:46.754077Z"
    }
   },
   "outputs": [],
   "source": [
    "# Now lets create a function which will ask for a random number pixel in the test dataset\n",
    "# and will return its test_data pixel image and the value predicted for it\n",
    "def get_image(model, X_test, class_names):\n",
    "    inp = input(f'Input a random index value from the test dataset less than  {len(X_test)} : ' )\n",
    "    try:\n",
    "        inp = int(inp)\n",
    "    except :\n",
    "        print('The value given is not an integer ')\n",
    "    if inp > 100000:\n",
    "        print('The number is greater than 100000')\n",
    "    else:\n",
    "        X_new = X_test[inp:inp+1]\n",
    "        y_pred = model.predict_classes(X_new)\n",
    "        y_pred_string = np.array(class_names)[y_pred]\n",
    "        plt.imshow(X_new[0])\n",
    "        plt.grid(False,)\n",
    "        plt.title(f'Predicted: {y_pred_string}',color='red')\n",
    "        plt.show()\n"
   ]
  },
  {
   "cell_type": "code",
   "execution_count": 23,
   "metadata": {
    "ExecuteTime": {
     "end_time": "2020-09-14T13:50:45.821385Z",
     "start_time": "2020-09-14T13:49:46.765327Z"
    }
   },
   "outputs": [
    {
     "name": "stdout",
     "output_type": "stream",
     "text": [
      "Input a random index value from the test dataset less than  10000 : 45\n"
     ]
    },
    {
     "data": {
      "image/png": "[encoded data removed]",
      "text/plain": [
       "<Figure size 432x288 with 1 Axes>"
      ]
     },
     "metadata": {},
     "output_type": "display_data"
    }
   ],
   "source": [
    "# Calling the function for different with inputting different values of index \n",
    "get_image(model, X_test, class_names)"
   ]
  },
  {
   "cell_type": "code",
   "execution_count": null,
   "metadata": {
    "ExecuteTime": {
     "end_time": "2020-09-13T14:51:47.622725Z",
     "start_time": "2020-09-13T14:51:47.618723Z"
    }
   },
   "outputs": [],
   "source": []
  },
  {
   "cell_type": "code",
   "execution_count": null,
   "metadata": {},
   "outputs": [],
   "source": []
  }
 ],
 "metadata": {
  "kernelspec": {
   "display_name": "Python 3",
   "language": "python",
   "name": "python3"
  },
  "language_info": {
   "codemirror_mode": {
    "name": "ipython",
    "version": 3
   },
   "file_extension": ".py",
   "mimetype": "text/x-python",
   "name": "python",
   "nbconvert_exporter": "python",
   "pygments_lexer": "ipython3",
   "version": "3.7.9"
  }
 },
 "nbformat": 4,
 "nbformat_minor": 4
}
