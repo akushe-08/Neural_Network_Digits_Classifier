{
 "cells": [
  {
   "cell_type": "code",
   "execution_count": 3,
   "metadata": {
    "ExecuteTime": {
     "end_time": "2020-09-12T13:32:40.707018Z",
     "start_time": "2020-09-12T13:32:37.749016Z"
    }
   },
   "outputs": [
    {
     "name": "stdout",
     "output_type": "stream",
     "text": [
      "2.1.0 2.2.4-tf\n"
     ]
    }
   ],
   "source": [
    "# Cheking the version of the tesorflow and keras and other libraries\n",
    "import tensorflow as tf\n",
    "from tensorflow import keras\n",
    "print(tf.__version__, keras.__version__)\n",
    "\n",
    "import numpy as np\n",
    "import matplotlib.pyplot as plt\n",
    "import pandas as pd\n",
    "%matplotlib inline"
   ]
  },
  {
   "cell_type": "markdown",
   "metadata": {},
   "source": [
    "## Building an Image Classifier Using the Sequential API"
   ]
  },
  {
   "cell_type": "code",
   "execution_count": 4,
   "metadata": {
    "ExecuteTime": {
     "end_time": "2020-09-12T13:32:41.023689Z",
     "start_time": "2020-09-12T13:32:40.710015Z"
    }
   },
   "outputs": [],
   "source": [
    "# using the digits mnist dataset from keras\n",
    "digits_mnist = keras.datasets.mnist\n",
    "(X_train_full , y_train_full ) , (X_test, y_test) = digits_mnist.load_data()"
   ]
  },
  {
   "cell_type": "code",
   "execution_count": 5,
   "metadata": {
    "ExecuteTime": {
     "end_time": "2020-09-12T13:32:41.030545Z",
     "start_time": "2020-09-12T13:32:41.025548Z"
    }
   },
   "outputs": [
    {
     "data": {
      "text/plain": [
       "((60000, 28, 28), dtype('uint8'))"
      ]
     },
     "execution_count": 5,
     "metadata": {},
     "output_type": "execute_result"
    }
   ],
   "source": [
    "# Shape of the dataset and its type\n",
    "X_train_full.shape , X_train_full.dtype"
   ]
  },
  {
   "cell_type": "code",
   "execution_count": 6,
   "metadata": {
    "ExecuteTime": {
     "end_time": "2020-09-12T13:32:41.044582Z",
     "start_time": "2020-09-12T13:32:41.033548Z"
    }
   },
   "outputs": [
    {
     "data": {
      "text/plain": [
       "28"
      ]
     },
     "execution_count": 6,
     "metadata": {},
     "output_type": "execute_result"
    }
   ],
   "source": [
    "# Now a single image is consists of an 28x28 array where each pixel is either represented with an \n",
    "# pixel density of 0 as black and 255 as white.. since we are going to use gradient descent we have \n",
    "# to scale the input feautures by diving them by 255\n",
    "len(X_test[0])"
   ]
  },
  {
   "cell_type": "code",
   "execution_count": 7,
   "metadata": {
    "ExecuteTime": {
     "end_time": "2020-09-12T13:32:41.248583Z",
     "start_time": "2020-09-12T13:32:41.046545Z"
    }
   },
   "outputs": [],
   "source": [
    "# Creating a validation set and scaling the input features\n",
    "X_valid , X_train = X_train_full[:5000] / 255 , X_train_full[5000:] / 255\n",
    "y_valid , y_train = y_train_full[:5000] , y_train_full[5000:]"
   ]
  },
  {
   "cell_type": "code",
   "execution_count": 8,
   "metadata": {
    "ExecuteTime": {
     "end_time": "2020-09-12T13:32:41.257553Z",
     "start_time": "2020-09-12T13:32:41.251551Z"
    }
   },
   "outputs": [
    {
     "data": {
      "text/plain": [
       "['zero',\n",
       " 'one',\n",
       " 'two',\n",
       " 'three',\n",
       " 'four',\n",
       " 'five',\n",
       " 'six',\n",
       " 'seven',\n",
       " 'eight',\n",
       " 'nine']"
      ]
     },
     "execution_count": 8,
     "metadata": {},
     "output_type": "execute_result"
    }
   ],
   "source": [
    "class_names = ['zero','one','two','three','four','five','six','seven','eight','nine']\n",
    "class_names"
   ]
  },
  {
   "cell_type": "code",
   "execution_count": 9,
   "metadata": {
    "ExecuteTime": {
     "end_time": "2020-09-12T13:32:41.272545Z",
     "start_time": "2020-09-12T13:32:41.260545Z"
    }
   },
   "outputs": [
    {
     "data": {
      "text/plain": [
       "('seven', 7)"
      ]
     },
     "execution_count": 9,
     "metadata": {},
     "output_type": "execute_result"
    }
   ],
   "source": [
    "class_names[y_train[0]], y_train[0]"
   ]
  },
  {
   "cell_type": "code",
   "execution_count": 10,
   "metadata": {
    "ExecuteTime": {
     "end_time": "2020-09-12T13:32:42.421372Z",
     "start_time": "2020-09-12T13:32:41.277547Z"
    }
   },
   "outputs": [],
   "source": [
    "# BUilding an sequential API model (A Classification MLP with tow hidden layers)\n",
    "model = keras.models.Sequential()\n",
    "model.add(keras.layers.Flatten(input_shape=[28,28])) # adding the input layer\n",
    "model.add(keras.layers.Dense(300, activation='relu')) # Adding the first hidden layer\n",
    "model.add(keras.layers.Dense(100, activation='relu')) # Adding the second hidden layer\n",
    "model.add(keras.layers.Dense(10, activation='softmax')) # Adding the final output layer having the softmax as the activation system for the classification problem\n"
   ]
  },
  {
   "cell_type": "markdown",
   "metadata": {},
   "source": [
    "### Explanation\n",
    "* Sequential model is the simplest model in keras for neural networks , just composed of single stack of layers connected squentially called Sequential API\n",
    "* Flatten is used to convert the each input pixel in the 28x28 to one single array (i.e X.reshape(-1,1)\n",
    "* Dense is the hidden layer with 300 neurons \n",
    "#### Note : You can even pass them on as a string"
   ]
  },
  {
   "cell_type": "code",
   "execution_count": 11,
   "metadata": {
    "ExecuteTime": {
     "end_time": "2020-09-12T13:32:42.428240Z",
     "start_time": "2020-09-12T13:32:42.423204Z"
    }
   },
   "outputs": [
    {
     "name": "stdout",
     "output_type": "stream",
     "text": [
      "Model: \"sequential\"\n",
      "_________________________________________________________________\n",
      "Layer (type)                 Output Shape              Param #   \n",
      "=================================================================\n",
      "flatten (Flatten)            (None, 784)               0         \n",
      "_________________________________________________________________\n",
      "dense (Dense)                (None, 300)               235500    \n",
      "_________________________________________________________________\n",
      "dense_1 (Dense)              (None, 100)               30100     \n",
      "_________________________________________________________________\n",
      "dense_2 (Dense)              (None, 10)                1010      \n",
      "=================================================================\n",
      "Total params: 266,610\n",
      "Trainable params: 266,610\n",
      "Non-trainable params: 0\n",
      "_________________________________________________________________\n"
     ]
    }
   ],
   "source": [
    "model.summary()"
   ]
  },
  {
   "cell_type": "code",
   "execution_count": 12,
   "metadata": {
    "ExecuteTime": {
     "end_time": "2020-09-12T13:32:42.444241Z",
     "start_time": "2020-09-12T13:32:42.431203Z"
    }
   },
   "outputs": [
    {
     "data": {
      "text/plain": [
       "(array([[-0.01349734,  0.00952861, -0.03896985, ...,  0.04113001,\n",
       "          0.03829615,  0.03591052],\n",
       "        [ 0.0451007 , -0.02414835, -0.03294895, ...,  0.01144727,\n",
       "         -0.05233148, -0.06320208],\n",
       "        [ 0.07397942, -0.01218236, -0.01303894, ..., -0.07231984,\n",
       "          0.05905645,  0.06560002],\n",
       "        ...,\n",
       "        [ 0.04862641,  0.05119169, -0.00720078, ...,  0.06304246,\n",
       "         -0.05526223, -0.00819682],\n",
       "        [-0.02958351,  0.05717805, -0.04948879, ..., -0.02569482,\n",
       "          0.03764384, -0.03745126],\n",
       "        [ 0.01150009,  0.06982538,  0.0698434 , ..., -0.0500773 ,\n",
       "         -0.05422889, -0.02983223]], dtype=float32),\n",
       " (784, 300))"
      ]
     },
     "execution_count": 12,
     "metadata": {},
     "output_type": "execute_result"
    }
   ],
   "source": [
    "#  Extracting the weigths and biases of the hidden layers\n",
    "hidden1 = model.layers[1] # Extracting info about the first layer\n",
    "weights , biases = hidden1.get_weights()\n",
    "# Notice at first the weights are assigned randomly to each neuron to break the symmetry\n",
    "weights , weights.shape"
   ]
  },
  {
   "cell_type": "code",
   "execution_count": 13,
   "metadata": {
    "ExecuteTime": {
     "end_time": "2020-09-12T13:32:42.455204Z",
     "start_time": "2020-09-12T13:32:42.447210Z"
    }
   },
   "outputs": [
    {
     "data": {
      "text/plain": [
       "(array([0., 0., 0., 0., 0., 0., 0., 0., 0., 0., 0., 0., 0., 0., 0., 0., 0.,\n",
       "        0., 0., 0., 0., 0., 0., 0., 0., 0., 0., 0., 0., 0., 0., 0., 0., 0.,\n",
       "        0., 0., 0., 0., 0., 0., 0., 0., 0., 0., 0., 0., 0., 0., 0., 0., 0.,\n",
       "        0., 0., 0., 0., 0., 0., 0., 0., 0., 0., 0., 0., 0., 0., 0., 0., 0.,\n",
       "        0., 0., 0., 0., 0., 0., 0., 0., 0., 0., 0., 0., 0., 0., 0., 0., 0.,\n",
       "        0., 0., 0., 0., 0., 0., 0., 0., 0., 0., 0., 0., 0., 0., 0., 0., 0.,\n",
       "        0., 0., 0., 0., 0., 0., 0., 0., 0., 0., 0., 0., 0., 0., 0., 0., 0.,\n",
       "        0., 0., 0., 0., 0., 0., 0., 0., 0., 0., 0., 0., 0., 0., 0., 0., 0.,\n",
       "        0., 0., 0., 0., 0., 0., 0., 0., 0., 0., 0., 0., 0., 0., 0., 0., 0.,\n",
       "        0., 0., 0., 0., 0., 0., 0., 0., 0., 0., 0., 0., 0., 0., 0., 0., 0.,\n",
       "        0., 0., 0., 0., 0., 0., 0., 0., 0., 0., 0., 0., 0., 0., 0., 0., 0.,\n",
       "        0., 0., 0., 0., 0., 0., 0., 0., 0., 0., 0., 0., 0., 0., 0., 0., 0.,\n",
       "        0., 0., 0., 0., 0., 0., 0., 0., 0., 0., 0., 0., 0., 0., 0., 0., 0.,\n",
       "        0., 0., 0., 0., 0., 0., 0., 0., 0., 0., 0., 0., 0., 0., 0., 0., 0.,\n",
       "        0., 0., 0., 0., 0., 0., 0., 0., 0., 0., 0., 0., 0., 0., 0., 0., 0.,\n",
       "        0., 0., 0., 0., 0., 0., 0., 0., 0., 0., 0., 0., 0., 0., 0., 0., 0.,\n",
       "        0., 0., 0., 0., 0., 0., 0., 0., 0., 0., 0., 0., 0., 0., 0., 0., 0.,\n",
       "        0., 0., 0., 0., 0., 0., 0., 0., 0., 0., 0.], dtype=float32),\n",
       " (300,))"
      ]
     },
     "execution_count": 13,
     "metadata": {},
     "output_type": "execute_result"
    }
   ],
   "source": [
    "# All the biases are initialized to zero\n",
    "biases, biases.shape"
   ]
  },
  {
   "cell_type": "markdown",
   "metadata": {
    "ExecuteTime": {
     "end_time": "2020-09-12T06:40:52.684037Z",
     "start_time": "2020-09-12T06:40:52.671999Z"
    }
   },
   "source": [
    "### Compiling the model\n",
    "* After the model is created , you must call compile() . to spcify the loss function ans the optimizer to use. and other metrics to compute during the training and evaluation.\n"
   ]
  },
  {
   "cell_type": "code",
   "execution_count": 14,
   "metadata": {
    "ExecuteTime": {
     "end_time": "2020-09-12T13:32:42.506375Z",
     "start_time": "2020-09-12T13:32:42.457201Z"
    }
   },
   "outputs": [],
   "source": [
    "model.compile(loss='sparse_categorical_crossentropy',\n",
    "             optimizer = 'sgd',\n",
    "             metrics = ['accuracy'])"
   ]
  },
  {
   "cell_type": "markdown",
   "metadata": {},
   "source": [
    "### Explanation\n",
    "* `sparse_categorical_crossentropy` - loss is used coz we have sparse labels , for each instance there is just one target index from 0 to 9 in this case . and the classes are exclusive.\n",
    "* IF we had one hot encoded vectors ex.[0,0,0,1,0,...] to represent class 3 then we had to use  `\"categorical_crossentropy\"` loss instead\n",
    "* For binary classification with more than one binary labels . we use `sigmoid` i.e logistic activation in the output intead of the \"softmax\" activitation function , `binary_crossentropy` loss instead "
   ]
  },
  {
   "cell_type": "code",
   "execution_count": 15,
   "metadata": {
    "ExecuteTime": {
     "end_time": "2020-09-12T13:32:42.510204Z",
     "start_time": "2020-09-12T13:32:42.507203Z"
    }
   },
   "outputs": [],
   "source": [
    "### `sgd` -> Stochastic Gradient Descent and the learning rate is defaulted to lr=0.01 "
   ]
  },
  {
   "cell_type": "code",
   "execution_count": 16,
   "metadata": {
    "ExecuteTime": {
     "end_time": "2020-09-12T13:33:48.315217Z",
     "start_time": "2020-09-12T13:32:42.513203Z"
    }
   },
   "outputs": [
    {
     "name": "stdout",
     "output_type": "stream",
     "text": [
      "Train on 55000 samples, validate on 5000 samples\n",
      "Epoch 1/10\n",
      "55000/55000 [==============================] - 7s 129us/sample - loss: 0.6157 - accuracy: 0.8431 - val_loss: 0.3015 - val_accuracy: 0.9182\n",
      "Epoch 2/10\n",
      "55000/55000 [==============================] - 7s 120us/sample - loss: 0.2810 - accuracy: 0.9204 - val_loss: 0.2407 - val_accuracy: 0.9348\n",
      "Epoch 3/10\n",
      "55000/55000 [==============================] - 7s 134us/sample - loss: 0.2284 - accuracy: 0.9355 - val_loss: 0.1986 - val_accuracy: 0.9450\n",
      "Epoch 4/10\n",
      "55000/55000 [==============================] - 6s 116us/sample - loss: 0.1951 - accuracy: 0.9446 - val_loss: 0.1742 - val_accuracy: 0.9520\n",
      "Epoch 5/10\n",
      "55000/55000 [==============================] - 6s 109us/sample - loss: 0.1699 - accuracy: 0.9515 - val_loss: 0.1528 - val_accuracy: 0.9578\n",
      "Epoch 6/10\n",
      "55000/55000 [==============================] - 7s 119us/sample - loss: 0.1507 - accuracy: 0.9571 - val_loss: 0.1403 - val_accuracy: 0.9612\n",
      "Epoch 7/10\n",
      "55000/55000 [==============================] - 6s 110us/sample - loss: 0.1357 - accuracy: 0.9614 - val_loss: 0.1281 - val_accuracy: 0.9658\n",
      "Epoch 8/10\n",
      "55000/55000 [==============================] - 6s 117us/sample - loss: 0.1227 - accuracy: 0.9657 - val_loss: 0.1190 - val_accuracy: 0.9682\n",
      "Epoch 9/10\n",
      "55000/55000 [==============================] - 7s 122us/sample - loss: 0.1120 - accuracy: 0.9687 - val_loss: 0.1136 - val_accuracy: 0.9686\n",
      "Epoch 10/10\n",
      "55000/55000 [==============================] - 7s 119us/sample - loss: 0.1026 - accuracy: 0.9708 - val_loss: 0.1075 - val_accuracy: 0.9708\n"
     ]
    }
   ],
   "source": [
    "## Training and evaluating the model\n",
    "history = model.fit(X_train, y_train, epochs=10,\n",
    "                   validation_data = (X_valid, y_valid), )\n",
    "#  Instead of creating a validation data and passing it other wise we could also set the \n",
    "# validation_split=0.1 (10%) tell keras to use 10% of the data for validation\n",
    "# class_weight gives more weight to underpresent clasees and vice versa\n",
    "# Use batch_size to change the number of samples per gradient descent default = 32"
   ]
  },
  {
   "cell_type": "code",
   "execution_count": 17,
   "metadata": {
    "ExecuteTime": {
     "end_time": "2020-09-12T13:33:48.486222Z",
     "start_time": "2020-09-12T13:33:48.316205Z"
    }
   },
   "outputs": [
    {
     "data": {
      "image/png": "[encoded data removed]",
      "text/plain": [
       "<Figure size 576x432 with 1 Axes>"
      ]
     },
     "metadata": {},
     "output_type": "display_data"
    }
   ],
   "source": [
    "# Using history parameter\n",
    "plt.style.use('ggplot')\n",
    "pd.DataFrame(history.history).plot(figsize=(8,6))\n",
    "plt.title('The mean training loss and accuracy at each epoch')\n",
    "plt.xlabel('EPOCH(Iteration)')\n",
    "plt.grid(True)\n",
    "plt.gca().set_ylim(0,1) # Set the vertical range to [0-1]\n",
    "plt.show()"
   ]
  },
  {
   "cell_type": "code",
   "execution_count": 18,
   "metadata": {
    "ExecuteTime": {
     "end_time": "2020-09-12T13:33:49.328225Z",
     "start_time": "2020-09-12T13:33:48.487191Z"
    }
   },
   "outputs": [
    {
     "name": "stdout",
     "output_type": "stream",
     "text": [
      "10000/10000 [==============================] - 1s 81us/sample - loss: 15.1346 - accuracy: 0.9660\n"
     ]
    },
    {
     "data": {
      "text/plain": [
       "[15.134552381443546, 0.966]"
      ]
     },
     "execution_count": 18,
     "metadata": {},
     "output_type": "execute_result"
    }
   ],
   "source": [
    "## Evaluating the model on the test data\n",
    "model.evaluate(X_test, y_test)"
   ]
  },
  {
   "cell_type": "code",
   "execution_count": 19,
   "metadata": {
    "ExecuteTime": {
     "end_time": "2020-09-12T13:33:49.397224Z",
     "start_time": "2020-09-12T13:33:49.330227Z"
    }
   },
   "outputs": [],
   "source": [
    "# Using the model to make prediction\n",
    "X_new = X_test[:3]\n",
    "y_proba = model.predict(X_new)"
   ]
  },
  {
   "cell_type": "code",
   "execution_count": 20,
   "metadata": {
    "ExecuteTime": {
     "end_time": "2020-09-12T13:33:49.404192Z",
     "start_time": "2020-09-12T13:33:49.398193Z"
    }
   },
   "outputs": [
    {
     "data": {
      "text/plain": [
       "array([[0., 0., 0., 0., 0., 0., 0., 1., 0., 0.],\n",
       "       [0., 0., 1., 0., 0., 0., 0., 0., 0., 0.],\n",
       "       [0., 1., 0., 0., 0., 0., 0., 0., 0., 0.]], dtype=float32)"
      ]
     },
     "execution_count": 20,
     "metadata": {},
     "output_type": "execute_result"
    }
   ],
   "source": [
    "# As you can see the for each instance the model estimates one probability per class from 0 to 9\n",
    "# ex. in the second case its prob is 100% on index 2 meaning the value is 2 \n",
    "y_proba.round(2)"
   ]
  },
  {
   "cell_type": "code",
   "execution_count": 21,
   "metadata": {
    "ExecuteTime": {
     "end_time": "2020-09-12T13:33:49.443193Z",
     "start_time": "2020-09-12T13:33:49.406189Z"
    }
   },
   "outputs": [
    {
     "data": {
      "text/plain": [
       "array(['seven', 'two', 'one'], dtype='<U5')"
      ]
     },
     "execution_count": 21,
     "metadata": {},
     "output_type": "execute_result"
    }
   ],
   "source": [
    "# To find the classes with the highest probability use predict_classes\n",
    "y_pred = model.predict_classes(X_new)\n",
    "y_pred\n",
    "y_pred_string = np.array(class_names)[y_pred]\n",
    "y_pred_string               # to use y_pred as index to the class_name list"
   ]
  },
  {
   "cell_type": "code",
   "execution_count": 22,
   "metadata": {
    "ExecuteTime": {
     "end_time": "2020-09-12T13:33:49.450192Z",
     "start_time": "2020-09-12T13:33:49.444217Z"
    }
   },
   "outputs": [
    {
     "data": {
      "text/plain": [
       "array([7, 2, 1], dtype=uint8)"
      ]
     },
     "execution_count": 22,
     "metadata": {},
     "output_type": "execute_result"
    }
   ],
   "source": [
    "# Here are the actual values of the images using the test set\n",
    "y_new = y_test[:3]\n",
    "y_new"
   ]
  },
  {
   "cell_type": "code",
   "execution_count": 23,
   "metadata": {
    "ExecuteTime": {
     "end_time": "2020-09-12T13:33:49.736190Z",
     "start_time": "2020-09-12T13:33:49.452190Z"
    }
   },
   "outputs": [
    {
     "data": {
      "image/png": "[encoded data removed]",
      "text/plain": [
       "<Figure size 864x432 with 3 Axes>"
      ]
     },
     "metadata": {},
     "output_type": "display_data"
    }
   ],
   "source": [
    "# Here we can see the image with the value it has predicted\n",
    "fig, ax = plt.subplots(1,3,figsize=(12,6))\n",
    "for axs,j,k in zip(ax.flat,X_new[:3],[0,1,2]):\n",
    "    axs.imshow(j)\n",
    "    axs.grid(False,)\n",
    "    axs.set_title(f'Predicted: {y_pred_string[k]}',color='red')\n",
    "plt.show()"
   ]
  },
  {
   "cell_type": "code",
   "execution_count": 24,
   "metadata": {
    "ExecuteTime": {
     "end_time": "2020-09-12T13:33:49.745193Z",
     "start_time": "2020-09-12T13:33:49.738191Z"
    }
   },
   "outputs": [],
   "source": [
    "# Now lets create a function which will ask for a random number pixel in the test dataset\n",
    "# and will return its test_data pixel image and the value predicted for it\n",
    "def get_image(model, X_test, class_names):\n",
    "    inp = input(f'Input a random index value from the test dataset less than  {len(X_test)} : ' )\n",
    "    try:\n",
    "        inp = int(inp)\n",
    "    except :\n",
    "        print('The value given is not an integer ')\n",
    "    if inp > 100000:\n",
    "        print('The number is greater than 100000')\n",
    "    else:\n",
    "        X_new = X_test[inp:inp+1]\n",
    "        y_pred = model.predict_classes(X_new)\n",
    "        y_pred_string = np.array(class_names)[y_pred]\n",
    "        plt.imshow(X_new[0])\n",
    "        plt.grid(False,)\n",
    "        plt.title(f'Predicted: {y_pred_string}',color='red')\n",
    "        plt.show()\n"
   ]
  },
  {
   "cell_type": "code",
   "execution_count": 26,
   "metadata": {
    "ExecuteTime": {
     "end_time": "2020-09-12T13:35:41.366342Z",
     "start_time": "2020-09-12T13:35:38.618745Z"
    }
   },
   "outputs": [
    {
     "name": "stdout",
     "output_type": "stream",
     "text": [
      "Input a random index value from the test dataset less than  10000 : 5\n"
     ]
    },
    {
     "data": {
      "image/png": "[encoded data removed]",
      "text/plain": [
       "<Figure size 432x288 with 1 Axes>"
      ]
     },
     "metadata": {},
     "output_type": "display_data"
    }
   ],
   "source": [
    "# Calling the function for different with inputting different values of index \n",
    "get_image(model, X_test, class_names)"
   ]
  },
  {
   "cell_type": "code",
   "execution_count": null,
   "metadata": {},
   "outputs": [],
   "source": []
  }
 ],
 "metadata": {
  "kernelspec": {
   "display_name": "Python 3",
   "language": "python",
   "name": "python3"
  },
  "language_info": {
   "codemirror_mode": {
    "name": "ipython",
    "version": 3
   },
   "file_extension": ".py",
   "mimetype": "text/x-python",
   "name": "python",
   "nbconvert_exporter": "python",
   "pygments_lexer": "ipython3",
   "version": "3.7.9"
  }
 },
 "nbformat": 4,
 "nbformat_minor": 4
}
