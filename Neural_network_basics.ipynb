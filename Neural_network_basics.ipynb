{
 "cells": [
  {
   "cell_type": "code",
   "execution_count": 1,
   "metadata": {
    "ExecuteTime": {
     "end_time": "2020-09-13T14:53:54.549467Z",
     "start_time": "2020-09-13T14:53:51.576328Z"
    }
   },
   "outputs": [
    {
     "name": "stdout",
     "output_type": "stream",
     "text": [
      "2.1.0 2.2.4-tf\n"
     ]
    }
   ],
   "source": [
    "# Cheking the version of the tesorflow and keras and other libraries\n",
    "import tensorflow as tf\n",
    "from tensorflow import keras\n",
    "print(tf.__version__, keras.__version__)\n",
    "\n",
    "import numpy as np\n",
    "import matplotlib.pyplot as plt\n",
    "import pandas as pd\n",
    "%matplotlib inline"
   ]
  },
  {
   "cell_type": "markdown",
   "metadata": {},
   "source": [
    "## Building an Image Classifier Using the Sequential API"
   ]
  },
  {
   "cell_type": "code",
   "execution_count": 2,
   "metadata": {
    "ExecuteTime": {
     "end_time": "2020-09-13T14:53:54.818345Z",
     "start_time": "2020-09-13T14:53:54.550325Z"
    }
   },
   "outputs": [],
   "source": [
    "# using the digits mnist dataset from keras\n",
    "digits_mnist = keras.datasets.mnist\n",
    "(X_train_full , y_train_full ) , (X_test, y_test) = digits_mnist.load_data()"
   ]
  },
  {
   "cell_type": "code",
   "execution_count": 3,
   "metadata": {
    "ExecuteTime": {
     "end_time": "2020-09-13T14:53:54.833347Z",
     "start_time": "2020-09-13T14:53:54.824349Z"
    }
   },
   "outputs": [
    {
     "data": {
      "text/plain": [
       "((60000, 28, 28), dtype('uint8'))"
      ]
     },
     "execution_count": 3,
     "metadata": {},
     "output_type": "execute_result"
    }
   ],
   "source": [
    "# Shape of the dataset and its type\n",
    "X_train_full.shape , X_train_full.dtype"
   ]
  },
  {
   "cell_type": "code",
   "execution_count": 4,
   "metadata": {
    "ExecuteTime": {
     "end_time": "2020-09-13T14:53:54.844347Z",
     "start_time": "2020-09-13T14:53:54.835347Z"
    }
   },
   "outputs": [
    {
     "data": {
      "text/plain": [
       "28"
      ]
     },
     "execution_count": 4,
     "metadata": {},
     "output_type": "execute_result"
    }
   ],
   "source": [
    "# Now a single image is consists of an 28x28 array where each pixel is either represented with an \n",
    "# pixel density of 0 as black and 255 as white.. since we are going to use gradient descent we have \n",
    "# to scale the input feautures by diving them by 255\n",
    "len(X_test[0])"
   ]
  },
  {
   "cell_type": "code",
   "execution_count": 5,
   "metadata": {
    "ExecuteTime": {
     "end_time": "2020-09-13T14:53:55.110354Z",
     "start_time": "2020-09-13T14:53:54.847347Z"
    }
   },
   "outputs": [],
   "source": [
    "# Creating a validation set and scaling the input features\n",
    "X_valid , X_train = X_train_full[:5000] / 255 , X_train_full[5000:] / 255\n",
    "y_valid , y_train = y_train_full[:5000] , y_train_full[5000:]"
   ]
  },
  {
   "cell_type": "code",
   "execution_count": 6,
   "metadata": {
    "ExecuteTime": {
     "end_time": "2020-09-13T14:53:55.122349Z",
     "start_time": "2020-09-13T14:53:55.112348Z"
    }
   },
   "outputs": [
    {
     "data": {
      "text/plain": [
       "['zero',\n",
       " 'one',\n",
       " 'two',\n",
       " 'three',\n",
       " 'four',\n",
       " 'five',\n",
       " 'six',\n",
       " 'seven',\n",
       " 'eight',\n",
       " 'nine']"
      ]
     },
     "execution_count": 6,
     "metadata": {},
     "output_type": "execute_result"
    }
   ],
   "source": [
    "class_names = ['zero','one','two','three','four','five','six','seven','eight','nine']\n",
    "class_names"
   ]
  },
  {
   "cell_type": "code",
   "execution_count": 7,
   "metadata": {
    "ExecuteTime": {
     "end_time": "2020-09-13T14:53:55.134351Z",
     "start_time": "2020-09-13T14:53:55.127353Z"
    }
   },
   "outputs": [
    {
     "data": {
      "text/plain": [
       "('seven', 7)"
      ]
     },
     "execution_count": 7,
     "metadata": {},
     "output_type": "execute_result"
    }
   ],
   "source": [
    "class_names[y_train[0]], y_train[0]"
   ]
  },
  {
   "cell_type": "code",
   "execution_count": 8,
   "metadata": {
    "ExecuteTime": {
     "end_time": "2020-09-13T14:53:55.438350Z",
     "start_time": "2020-09-13T14:53:55.137348Z"
    }
   },
   "outputs": [],
   "source": [
    "# BUilding an sequential API model (A Classification MLP with tow hidden layers)\n",
    "model = keras.models.Sequential()\n",
    "model.add(keras.layers.Flatten(input_shape=[28,28])) # adding the input layer\n",
    "model.add(keras.layers.Dense(300, activation='relu')) # Adding the first hidden layer\n",
    "model.add(keras.layers.Dense(100, activation='relu')) # Adding the second hidden layer\n",
    "model.add(keras.layers.Dense(10, activation='softmax')) # Adding the final output layer having the softmax as the activation system for the classification problem\n"
   ]
  },
  {
   "cell_type": "markdown",
   "metadata": {},
   "source": [
    "### Explanation\n",
    "* Sequential model is the simplest model in keras for neural networks , just composed of single stack of layers connected squentially called Sequential API\n",
    "* Flatten is used to convert the each input pixel in the 28x28 to one single array (i.e X.reshape(-1,1)\n",
    "* Dense is the hidden layer with 300 neurons \n",
    "#### Note : You can even pass them on as a string"
   ]
  },
  {
   "cell_type": "code",
   "execution_count": 9,
   "metadata": {
    "ExecuteTime": {
     "end_time": "2020-09-13T14:53:55.451348Z",
     "start_time": "2020-09-13T14:53:55.441354Z"
    }
   },
   "outputs": [
    {
     "name": "stdout",
     "output_type": "stream",
     "text": [
      "Model: \"sequential\"\n",
      "_________________________________________________________________\n",
      "Layer (type)                 Output Shape              Param #   \n",
      "=================================================================\n",
      "flatten (Flatten)            (None, 784)               0         \n",
      "_________________________________________________________________\n",
      "dense (Dense)                (None, 300)               235500    \n",
      "_________________________________________________________________\n",
      "dense_1 (Dense)              (None, 100)               30100     \n",
      "_________________________________________________________________\n",
      "dense_2 (Dense)              (None, 10)                1010      \n",
      "=================================================================\n",
      "Total params: 266,610\n",
      "Trainable params: 266,610\n",
      "Non-trainable params: 0\n",
      "_________________________________________________________________\n"
     ]
    }
   ],
   "source": [
    "model.summary()"
   ]
  },
  {
   "cell_type": "code",
   "execution_count": 10,
   "metadata": {
    "ExecuteTime": {
     "end_time": "2020-09-13T14:53:55.469348Z",
     "start_time": "2020-09-13T14:53:55.455349Z"
    }
   },
   "outputs": [
    {
     "data": {
      "text/plain": [
       "(array([[-0.01331158, -0.01871805,  0.04180969, ...,  0.01761489,\n",
       "         -0.03502854,  0.05682522],\n",
       "        [ 0.06481843,  0.05252172,  0.01361334, ..., -0.06372177,\n",
       "          0.06566142,  0.04246013],\n",
       "        [ 0.04913201, -0.03714048, -0.01133374, ...,  0.06032443,\n",
       "         -0.01345306,  0.04187726],\n",
       "        ...,\n",
       "        [-0.01339297, -0.0368528 ,  0.04961535, ...,  0.01418798,\n",
       "         -0.06266576, -0.06632394],\n",
       "        [ 0.06196637,  0.01309104,  0.06695305, ...,  0.03140976,\n",
       "          0.04946829,  0.03286466],\n",
       "        [ 0.02464087,  0.06521413,  0.06846291, ..., -0.06744361,\n",
       "         -0.00114317, -0.0673592 ]], dtype=float32),\n",
       " (784, 300))"
      ]
     },
     "execution_count": 10,
     "metadata": {},
     "output_type": "execute_result"
    }
   ],
   "source": [
    "#  Extracting the weigths and biases of the hidden layers\n",
    "hidden1 = model.layers[1] # Extracting info about the first layer\n",
    "weights , biases = hidden1.get_weights()\n",
    "# Notice at first the weights are assigned randomly to each neuron to break the symmetry\n",
    "weights , weights.shape"
   ]
  },
  {
   "cell_type": "code",
   "execution_count": 11,
   "metadata": {
    "ExecuteTime": {
     "end_time": "2020-09-13T14:53:55.484347Z",
     "start_time": "2020-09-13T14:53:55.472348Z"
    }
   },
   "outputs": [
    {
     "data": {
      "text/plain": [
       "(array([0., 0., 0., 0., 0., 0., 0., 0., 0., 0., 0., 0., 0., 0., 0., 0., 0.,\n",
       "        0., 0., 0., 0., 0., 0., 0., 0., 0., 0., 0., 0., 0., 0., 0., 0., 0.,\n",
       "        0., 0., 0., 0., 0., 0., 0., 0., 0., 0., 0., 0., 0., 0., 0., 0., 0.,\n",
       "        0., 0., 0., 0., 0., 0., 0., 0., 0., 0., 0., 0., 0., 0., 0., 0., 0.,\n",
       "        0., 0., 0., 0., 0., 0., 0., 0., 0., 0., 0., 0., 0., 0., 0., 0., 0.,\n",
       "        0., 0., 0., 0., 0., 0., 0., 0., 0., 0., 0., 0., 0., 0., 0., 0., 0.,\n",
       "        0., 0., 0., 0., 0., 0., 0., 0., 0., 0., 0., 0., 0., 0., 0., 0., 0.,\n",
       "        0., 0., 0., 0., 0., 0., 0., 0., 0., 0., 0., 0., 0., 0., 0., 0., 0.,\n",
       "        0., 0., 0., 0., 0., 0., 0., 0., 0., 0., 0., 0., 0., 0., 0., 0., 0.,\n",
       "        0., 0., 0., 0., 0., 0., 0., 0., 0., 0., 0., 0., 0., 0., 0., 0., 0.,\n",
       "        0., 0., 0., 0., 0., 0., 0., 0., 0., 0., 0., 0., 0., 0., 0., 0., 0.,\n",
       "        0., 0., 0., 0., 0., 0., 0., 0., 0., 0., 0., 0., 0., 0., 0., 0., 0.,\n",
       "        0., 0., 0., 0., 0., 0., 0., 0., 0., 0., 0., 0., 0., 0., 0., 0., 0.,\n",
       "        0., 0., 0., 0., 0., 0., 0., 0., 0., 0., 0., 0., 0., 0., 0., 0., 0.,\n",
       "        0., 0., 0., 0., 0., 0., 0., 0., 0., 0., 0., 0., 0., 0., 0., 0., 0.,\n",
       "        0., 0., 0., 0., 0., 0., 0., 0., 0., 0., 0., 0., 0., 0., 0., 0., 0.,\n",
       "        0., 0., 0., 0., 0., 0., 0., 0., 0., 0., 0., 0., 0., 0., 0., 0., 0.,\n",
       "        0., 0., 0., 0., 0., 0., 0., 0., 0., 0., 0.], dtype=float32),\n",
       " (300,))"
      ]
     },
     "execution_count": 11,
     "metadata": {},
     "output_type": "execute_result"
    }
   ],
   "source": [
    "# All the biases are initialized to zero\n",
    "biases, biases.shape"
   ]
  },
  {
   "cell_type": "markdown",
   "metadata": {
    "ExecuteTime": {
     "end_time": "2020-09-12T06:40:52.684037Z",
     "start_time": "2020-09-12T06:40:52.671999Z"
    }
   },
   "source": [
    "### Compiling the model\n",
    "* After the model is created , you must call compile() . to spcify the loss function ans the optimizer to use. and other metrics to compute during the training and evaluation.\n"
   ]
  },
  {
   "cell_type": "code",
   "execution_count": 12,
   "metadata": {
    "ExecuteTime": {
     "end_time": "2020-09-13T14:53:55.565351Z",
     "start_time": "2020-09-13T14:53:55.487347Z"
    }
   },
   "outputs": [],
   "source": [
    "model.compile(loss='sparse_categorical_crossentropy',\n",
    "             optimizer = 'sgd',\n",
    "             metrics = ['accuracy'])"
   ]
  },
  {
   "cell_type": "markdown",
   "metadata": {},
   "source": [
    "### Explanation\n",
    "* `sparse_categorical_crossentropy` - loss is used coz we have sparse labels , for each instance there is just one target index from 0 to 9 in this case . and the classes are exclusive.\n",
    "* IF we had one hot encoded vectors ex.[0,0,0,1,0,...] to represent class 3 then we had to use  `\"categorical_crossentropy\"` loss instead\n",
    "* For binary classification with more than one binary labels . we use `sigmoid` i.e logistic activation in the output intead of the \"softmax\" activitation function , `binary_crossentropy` loss instead "
   ]
  },
  {
   "cell_type": "code",
   "execution_count": 13,
   "metadata": {
    "ExecuteTime": {
     "end_time": "2020-09-13T14:53:55.572348Z",
     "start_time": "2020-09-13T14:53:55.568349Z"
    }
   },
   "outputs": [],
   "source": [
    "### `sgd` -> Stochastic Gradient Descent and the learning rate is defaulted to lr=0.01 "
   ]
  },
  {
   "cell_type": "code",
   "execution_count": 14,
   "metadata": {
    "ExecuteTime": {
     "end_time": "2020-09-13T14:56:45.911196Z",
     "start_time": "2020-09-13T14:53:55.574352Z"
    }
   },
   "outputs": [
    {
     "name": "stdout",
     "output_type": "stream",
     "text": [
      "Train on 55000 samples, validate on 5000 samples\n",
      "Epoch 1/100\n",
      "55000/55000 [==============================] - 3s 54us/sample - loss: 1.0588 - accuracy: 0.7423 - val_loss: 0.5078 - val_accuracy: 0.8754\n",
      "Epoch 2/100\n",
      "55000/55000 [==============================] - 2s 40us/sample - loss: 0.4370 - accuracy: 0.8830 - val_loss: 0.3572 - val_accuracy: 0.9092\n",
      "Epoch 3/100\n",
      "55000/55000 [==============================] - 2s 40us/sample - loss: 0.3508 - accuracy: 0.9022 - val_loss: 0.3066 - val_accuracy: 0.9192\n",
      "Epoch 4/100\n",
      "55000/55000 [==============================] - 2s 40us/sample - loss: 0.3107 - accuracy: 0.9117 - val_loss: 0.2769 - val_accuracy: 0.9230\n",
      "Epoch 5/100\n",
      "55000/55000 [==============================] - 2s 40us/sample - loss: 0.2839 - accuracy: 0.9186 - val_loss: 0.2545 - val_accuracy: 0.9290\n",
      "Epoch 6/100\n",
      "55000/55000 [==============================] - 2s 39us/sample - loss: 0.2631 - accuracy: 0.9249 - val_loss: 0.2370 - val_accuracy: 0.9344\n",
      "Epoch 7/100\n",
      "55000/55000 [==============================] - 2s 37us/sample - loss: 0.2462 - accuracy: 0.9298 - val_loss: 0.2239 - val_accuracy: 0.9382\n",
      "Epoch 8/100\n",
      "55000/55000 [==============================] - 2s 30us/sample - loss: 0.2320 - accuracy: 0.9336 - val_loss: 0.2160 - val_accuracy: 0.9396\n",
      "Epoch 9/100\n",
      "55000/55000 [==============================] - 2s 29us/sample - loss: 0.2195 - accuracy: 0.9376 - val_loss: 0.2030 - val_accuracy: 0.9436\n",
      "Epoch 10/100\n",
      "55000/55000 [==============================] - 2s 31us/sample - loss: 0.2085 - accuracy: 0.9400 - val_loss: 0.1939 - val_accuracy: 0.9472\n",
      "Epoch 11/100\n",
      "55000/55000 [==============================] - 2s 30us/sample - loss: 0.1985 - accuracy: 0.9435 - val_loss: 0.1861 - val_accuracy: 0.9498\n",
      "Epoch 12/100\n",
      "55000/55000 [==============================] - 2s 30us/sample - loss: 0.1899 - accuracy: 0.9461 - val_loss: 0.1783 - val_accuracy: 0.9506\n",
      "Epoch 13/100\n",
      "55000/55000 [==============================] - 2s 31us/sample - loss: 0.1812 - accuracy: 0.9482 - val_loss: 0.1748 - val_accuracy: 0.9520\n",
      "Epoch 14/100\n",
      "55000/55000 [==============================] - 2s 30us/sample - loss: 0.1740 - accuracy: 0.9505 - val_loss: 0.1666 - val_accuracy: 0.9554\n",
      "Epoch 15/100\n",
      "55000/55000 [==============================] - 2s 30us/sample - loss: 0.1671 - accuracy: 0.9524 - val_loss: 0.1605 - val_accuracy: 0.9564\n",
      "Epoch 16/100\n",
      "55000/55000 [==============================] - 2s 31us/sample - loss: 0.1605 - accuracy: 0.9543 - val_loss: 0.1542 - val_accuracy: 0.9578\n",
      "Epoch 17/100\n",
      "55000/55000 [==============================] - 2s 30us/sample - loss: 0.1548 - accuracy: 0.9559 - val_loss: 0.1514 - val_accuracy: 0.9588\n",
      "Epoch 18/100\n",
      "55000/55000 [==============================] - 2s 30us/sample - loss: 0.1491 - accuracy: 0.9579 - val_loss: 0.1463 - val_accuracy: 0.9590\n",
      "Epoch 19/100\n",
      "55000/55000 [==============================] - 2s 30us/sample - loss: 0.1440 - accuracy: 0.9593 - val_loss: 0.1413 - val_accuracy: 0.9614\n",
      "Epoch 20/100\n",
      "55000/55000 [==============================] - 2s 30us/sample - loss: 0.1390 - accuracy: 0.9608 - val_loss: 0.1384 - val_accuracy: 0.9620\n",
      "Epoch 21/100\n",
      "55000/55000 [==============================] - 2s 31us/sample - loss: 0.1344 - accuracy: 0.9617 - val_loss: 0.1346 - val_accuracy: 0.9626\n",
      "Epoch 22/100\n",
      "55000/55000 [==============================] - 2s 30us/sample - loss: 0.1303 - accuracy: 0.9632 - val_loss: 0.1313 - val_accuracy: 0.9644\n",
      "Epoch 23/100\n",
      "55000/55000 [==============================] - 2s 31us/sample - loss: 0.1261 - accuracy: 0.9641 - val_loss: 0.1276 - val_accuracy: 0.9654\n",
      "Epoch 24/100\n",
      "55000/55000 [==============================] - 2s 30us/sample - loss: 0.1223 - accuracy: 0.9659 - val_loss: 0.1263 - val_accuracy: 0.9654\n",
      "Epoch 25/100\n",
      "55000/55000 [==============================] - 2s 30us/sample - loss: 0.1184 - accuracy: 0.9668 - val_loss: 0.1221 - val_accuracy: 0.9660\n",
      "Epoch 26/100\n",
      "55000/55000 [==============================] - 2s 31us/sample - loss: 0.1149 - accuracy: 0.9674 - val_loss: 0.1204 - val_accuracy: 0.9670\n",
      "Epoch 27/100\n",
      "55000/55000 [==============================] - 2s 30us/sample - loss: 0.1116 - accuracy: 0.9688 - val_loss: 0.1167 - val_accuracy: 0.9684\n",
      "Epoch 28/100\n",
      "55000/55000 [==============================] - 2s 30us/sample - loss: 0.1083 - accuracy: 0.9698 - val_loss: 0.1154 - val_accuracy: 0.9692\n",
      "Epoch 29/100\n",
      "55000/55000 [==============================] - 2s 30us/sample - loss: 0.1051 - accuracy: 0.9712 - val_loss: 0.1126 - val_accuracy: 0.9698\n",
      "Epoch 30/100\n",
      "55000/55000 [==============================] - 2s 30us/sample - loss: 0.1022 - accuracy: 0.9713 - val_loss: 0.1132 - val_accuracy: 0.9690\n",
      "Epoch 31/100\n",
      "55000/55000 [==============================] - 2s 31us/sample - loss: 0.0992 - accuracy: 0.9724 - val_loss: 0.1077 - val_accuracy: 0.9708\n",
      "Epoch 32/100\n",
      "55000/55000 [==============================] - 2s 30us/sample - loss: 0.0966 - accuracy: 0.9729 - val_loss: 0.1056 - val_accuracy: 0.9722\n",
      "Epoch 33/100\n",
      "55000/55000 [==============================] - 2s 31us/sample - loss: 0.0938 - accuracy: 0.9738 - val_loss: 0.1041 - val_accuracy: 0.9718\n",
      "Epoch 34/100\n",
      "55000/55000 [==============================] - 2s 30us/sample - loss: 0.0916 - accuracy: 0.9747 - val_loss: 0.1041 - val_accuracy: 0.9720\n",
      "Epoch 35/100\n",
      "55000/55000 [==============================] - 2s 30us/sample - loss: 0.0890 - accuracy: 0.9752 - val_loss: 0.1017 - val_accuracy: 0.9730\n",
      "Epoch 36/100\n",
      "55000/55000 [==============================] - 2s 31us/sample - loss: 0.0869 - accuracy: 0.9763 - val_loss: 0.0993 - val_accuracy: 0.9738\n",
      "Epoch 37/100\n",
      "55000/55000 [==============================] - 2s 31us/sample - loss: 0.0845 - accuracy: 0.9769 - val_loss: 0.0990 - val_accuracy: 0.9734\n",
      "Epoch 38/100\n",
      "55000/55000 [==============================] - 2s 30us/sample - loss: 0.0824 - accuracy: 0.9776 - val_loss: 0.0962 - val_accuracy: 0.9746\n",
      "Epoch 39/100\n",
      "55000/55000 [==============================] - 2s 31us/sample - loss: 0.0803 - accuracy: 0.9781 - val_loss: 0.0952 - val_accuracy: 0.9748\n",
      "Epoch 40/100\n",
      "55000/55000 [==============================] - 2s 33us/sample - loss: 0.0782 - accuracy: 0.9784 - val_loss: 0.0953 - val_accuracy: 0.9748\n",
      "Epoch 41/100\n",
      "55000/55000 [==============================] - 2s 32us/sample - loss: 0.0763 - accuracy: 0.9792 - val_loss: 0.0935 - val_accuracy: 0.9760\n",
      "Epoch 42/100\n",
      "55000/55000 [==============================] - 2s 30us/sample - loss: 0.0745 - accuracy: 0.9799 - val_loss: 0.0919 - val_accuracy: 0.9752\n",
      "Epoch 43/100\n",
      "55000/55000 [==============================] - 2s 30us/sample - loss: 0.0728 - accuracy: 0.9802 - val_loss: 0.0906 - val_accuracy: 0.9756\n",
      "Epoch 44/100\n",
      "55000/55000 [==============================] - 2s 31us/sample - loss: 0.0709 - accuracy: 0.9811 - val_loss: 0.0897 - val_accuracy: 0.9756\n",
      "Epoch 45/100\n",
      "55000/55000 [==============================] - 2s 30us/sample - loss: 0.0693 - accuracy: 0.9810 - val_loss: 0.0885 - val_accuracy: 0.9766\n",
      "Epoch 46/100\n",
      "55000/55000 [==============================] - 2s 30us/sample - loss: 0.0676 - accuracy: 0.9817 - val_loss: 0.0899 - val_accuracy: 0.9762\n",
      "Epoch 47/100\n",
      "55000/55000 [==============================] - 2s 30us/sample - loss: 0.0660 - accuracy: 0.9824 - val_loss: 0.0871 - val_accuracy: 0.9766\n",
      "Epoch 48/100\n",
      "55000/55000 [==============================] - 2s 30us/sample - loss: 0.0646 - accuracy: 0.9823 - val_loss: 0.0860 - val_accuracy: 0.9772\n",
      "Epoch 49/100\n",
      "55000/55000 [==============================] - 2s 31us/sample - loss: 0.0631 - accuracy: 0.9832 - val_loss: 0.0852 - val_accuracy: 0.9784\n",
      "Epoch 50/100\n",
      "55000/55000 [==============================] - 2s 31us/sample - loss: 0.0616 - accuracy: 0.9836 - val_loss: 0.0842 - val_accuracy: 0.9770\n",
      "Epoch 51/100\n",
      "55000/55000 [==============================] - 2s 30us/sample - loss: 0.0603 - accuracy: 0.9844 - val_loss: 0.0831 - val_accuracy: 0.9788\n",
      "Epoch 52/100\n",
      "55000/55000 [==============================] - 2s 32us/sample - loss: 0.0589 - accuracy: 0.9845 - val_loss: 0.0831 - val_accuracy: 0.9784\n",
      "Epoch 53/100\n",
      "55000/55000 [==============================] - 2s 30us/sample - loss: 0.0576 - accuracy: 0.9847 - val_loss: 0.0830 - val_accuracy: 0.9784\n",
      "Epoch 54/100\n",
      "55000/55000 [==============================] - 2s 30us/sample - loss: 0.0562 - accuracy: 0.9854 - val_loss: 0.0808 - val_accuracy: 0.9786\n"
     ]
    },
    {
     "name": "stdout",
     "output_type": "stream",
     "text": [
      "Epoch 55/100\n",
      "55000/55000 [==============================] - 2s 29us/sample - loss: 0.0551 - accuracy: 0.9858 - val_loss: 0.0800 - val_accuracy: 0.9790\n",
      "Epoch 56/100\n",
      "55000/55000 [==============================] - 2s 29us/sample - loss: 0.0539 - accuracy: 0.9860 - val_loss: 0.0804 - val_accuracy: 0.9782\n",
      "Epoch 57/100\n",
      "55000/55000 [==============================] - 2s 29us/sample - loss: 0.0526 - accuracy: 0.9864 - val_loss: 0.0795 - val_accuracy: 0.9786\n",
      "Epoch 58/100\n",
      "55000/55000 [==============================] - 2s 29us/sample - loss: 0.0517 - accuracy: 0.9867 - val_loss: 0.0780 - val_accuracy: 0.9786\n",
      "Epoch 59/100\n",
      "55000/55000 [==============================] - 2s 29us/sample - loss: 0.0506 - accuracy: 0.9873 - val_loss: 0.0774 - val_accuracy: 0.9792\n",
      "Epoch 60/100\n",
      "55000/55000 [==============================] - 2s 29us/sample - loss: 0.0494 - accuracy: 0.9872 - val_loss: 0.0767 - val_accuracy: 0.9788\n",
      "Epoch 61/100\n",
      "55000/55000 [==============================] - 2s 28us/sample - loss: 0.0485 - accuracy: 0.9877 - val_loss: 0.0767 - val_accuracy: 0.9788\n",
      "Epoch 62/100\n",
      "55000/55000 [==============================] - 2s 29us/sample - loss: 0.0474 - accuracy: 0.9877 - val_loss: 0.0760 - val_accuracy: 0.9790\n",
      "Epoch 63/100\n",
      "55000/55000 [==============================] - 2s 29us/sample - loss: 0.0464 - accuracy: 0.9883 - val_loss: 0.0752 - val_accuracy: 0.9796\n",
      "Epoch 64/100\n",
      "55000/55000 [==============================] - 2s 28us/sample - loss: 0.0454 - accuracy: 0.9886 - val_loss: 0.0746 - val_accuracy: 0.9796\n",
      "Epoch 65/100\n",
      "55000/55000 [==============================] - 2s 28us/sample - loss: 0.0445 - accuracy: 0.9891 - val_loss: 0.0746 - val_accuracy: 0.9790\n",
      "Epoch 66/100\n",
      "55000/55000 [==============================] - 2s 28us/sample - loss: 0.0437 - accuracy: 0.9891 - val_loss: 0.0743 - val_accuracy: 0.9798\n",
      "Epoch 67/100\n",
      "55000/55000 [==============================] - 2s 28us/sample - loss: 0.0428 - accuracy: 0.9893 - val_loss: 0.0740 - val_accuracy: 0.9796\n",
      "Epoch 68/100\n",
      "55000/55000 [==============================] - 2s 28us/sample - loss: 0.0418 - accuracy: 0.9897 - val_loss: 0.0739 - val_accuracy: 0.9792\n",
      "Epoch 69/100\n",
      "55000/55000 [==============================] - 2s 29us/sample - loss: 0.0410 - accuracy: 0.9898 - val_loss: 0.0736 - val_accuracy: 0.9802\n",
      "Epoch 70/100\n",
      "55000/55000 [==============================] - 2s 29us/sample - loss: 0.0401 - accuracy: 0.9900 - val_loss: 0.0725 - val_accuracy: 0.9788\n",
      "Epoch 71/100\n",
      "55000/55000 [==============================] - 2s 31us/sample - loss: 0.0394 - accuracy: 0.9902 - val_loss: 0.0726 - val_accuracy: 0.9794\n",
      "Epoch 72/100\n",
      "55000/55000 [==============================] - 2s 32us/sample - loss: 0.0386 - accuracy: 0.9903 - val_loss: 0.0722 - val_accuracy: 0.9788\n",
      "Epoch 73/100\n",
      "55000/55000 [==============================] - 2s 33us/sample - loss: 0.0379 - accuracy: 0.9907 - val_loss: 0.0720 - val_accuracy: 0.9792\n",
      "Epoch 74/100\n",
      "55000/55000 [==============================] - 2s 32us/sample - loss: 0.0370 - accuracy: 0.9910 - val_loss: 0.0711 - val_accuracy: 0.9794\n",
      "Epoch 75/100\n",
      "55000/55000 [==============================] - 2s 31us/sample - loss: 0.0364 - accuracy: 0.9913 - val_loss: 0.0725 - val_accuracy: 0.9790\n",
      "Epoch 76/100\n",
      "55000/55000 [==============================] - 2s 32us/sample - loss: 0.0356 - accuracy: 0.9915 - val_loss: 0.0712 - val_accuracy: 0.9790\n",
      "Epoch 77/100\n",
      "55000/55000 [==============================] - 2s 33us/sample - loss: 0.0348 - accuracy: 0.9917 - val_loss: 0.0703 - val_accuracy: 0.9792\n",
      "Epoch 78/100\n",
      "55000/55000 [==============================] - 2s 30us/sample - loss: 0.0343 - accuracy: 0.9918 - val_loss: 0.0703 - val_accuracy: 0.9794\n",
      "Epoch 79/100\n",
      "55000/55000 [==============================] - 2s 30us/sample - loss: 0.0335 - accuracy: 0.9920 - val_loss: 0.0705 - val_accuracy: 0.9790\n",
      "Epoch 80/100\n",
      "55000/55000 [==============================] - 2s 30us/sample - loss: 0.0329 - accuracy: 0.9920 - val_loss: 0.0700 - val_accuracy: 0.9792\n",
      "Epoch 81/100\n",
      "55000/55000 [==============================] - 2s 30us/sample - loss: 0.0323 - accuracy: 0.9923 - val_loss: 0.0707 - val_accuracy: 0.9786\n",
      "Epoch 82/100\n",
      "55000/55000 [==============================] - 2s 32us/sample - loss: 0.0315 - accuracy: 0.9926 - val_loss: 0.0705 - val_accuracy: 0.9786\n",
      "Epoch 83/100\n",
      "55000/55000 [==============================] - 2s 32us/sample - loss: 0.0310 - accuracy: 0.9928 - val_loss: 0.0695 - val_accuracy: 0.9800\n",
      "Epoch 84/100\n",
      "55000/55000 [==============================] - 2s 30us/sample - loss: 0.0305 - accuracy: 0.9928 - val_loss: 0.0690 - val_accuracy: 0.9796\n",
      "Epoch 85/100\n",
      "55000/55000 [==============================] - 2s 28us/sample - loss: 0.0298 - accuracy: 0.9933 - val_loss: 0.0695 - val_accuracy: 0.9790\n",
      "Epoch 86/100\n",
      "55000/55000 [==============================] - 2s 29us/sample - loss: 0.0293 - accuracy: 0.9933 - val_loss: 0.0685 - val_accuracy: 0.9794\n",
      "Epoch 87/100\n",
      "55000/55000 [==============================] - 2s 30us/sample - loss: 0.0287 - accuracy: 0.9935 - val_loss: 0.0680 - val_accuracy: 0.9798\n",
      "Epoch 88/100\n",
      "55000/55000 [==============================] - 2s 29us/sample - loss: 0.0281 - accuracy: 0.9938 - val_loss: 0.0690 - val_accuracy: 0.9792\n",
      "Epoch 89/100\n",
      "55000/55000 [==============================] - 2s 31us/sample - loss: 0.0277 - accuracy: 0.9936 - val_loss: 0.0679 - val_accuracy: 0.9796\n",
      "Epoch 90/100\n",
      "55000/55000 [==============================] - 2s 30us/sample - loss: 0.0271 - accuracy: 0.9941 - val_loss: 0.0675 - val_accuracy: 0.9798\n",
      "Epoch 91/100\n",
      "55000/55000 [==============================] - 2s 29us/sample - loss: 0.0267 - accuracy: 0.9943 - val_loss: 0.0678 - val_accuracy: 0.9788\n",
      "Epoch 92/100\n",
      "55000/55000 [==============================] - 2s 30us/sample - loss: 0.0260 - accuracy: 0.9945 - val_loss: 0.0684 - val_accuracy: 0.9794\n",
      "Epoch 93/100\n",
      "55000/55000 [==============================] - 2s 30us/sample - loss: 0.0256 - accuracy: 0.9947 - val_loss: 0.0676 - val_accuracy: 0.9792\n",
      "Epoch 94/100\n",
      "55000/55000 [==============================] - 2s 29us/sample - loss: 0.0251 - accuracy: 0.9949 - val_loss: 0.0674 - val_accuracy: 0.9796\n",
      "Epoch 95/100\n",
      "55000/55000 [==============================] - 2s 29us/sample - loss: 0.0247 - accuracy: 0.9949 - val_loss: 0.0677 - val_accuracy: 0.9802\n",
      "Epoch 96/100\n",
      "55000/55000 [==============================] - 2s 30us/sample - loss: 0.0242 - accuracy: 0.9951 - val_loss: 0.0672 - val_accuracy: 0.9788\n",
      "Epoch 97/100\n",
      "55000/55000 [==============================] - 2s 29us/sample - loss: 0.0238 - accuracy: 0.9952 - val_loss: 0.0677 - val_accuracy: 0.9786\n",
      "Epoch 98/100\n",
      "55000/55000 [==============================] - 2s 30us/sample - loss: 0.0234 - accuracy: 0.9957 - val_loss: 0.0670 - val_accuracy: 0.9798\n",
      "Epoch 99/100\n",
      "55000/55000 [==============================] - 2s 30us/sample - loss: 0.0229 - accuracy: 0.9957 - val_loss: 0.0670 - val_accuracy: 0.9796\n",
      "Epoch 100/100\n",
      "55000/55000 [==============================] - 2s 30us/sample - loss: 0.0225 - accuracy: 0.9956 - val_loss: 0.0670 - val_accuracy: 0.9802\n"
     ]
    },
    {
     "data": {
      "image/png": "[encoded data removed]",
      "text/plain": [
       "<Figure size 576x432 with 1 Axes>"
      ]
     },
     "metadata": {},
     "output_type": "display_data"
    }
   ],
   "source": [
    "## Training and evaluating the model\n",
    "# Call back for saving the best model \n",
    "checkpoint_cb_best_model = keras.callbacks.ModelCheckpoint('Digits_Sequantial_API.h5',\n",
    "                                                              save_best_only=True)\n",
    "\n",
    "# Early stopping the model , if validation accuracy does not see any improvement \n",
    "early_stopping_cb = keras.callbacks.EarlyStopping(patience=10,\n",
    "                                                 restore_best_weights=True)\n",
    "\n",
    "# This stops the algorithm if its accuracy does not increase at a patience threhold of 10 \n",
    "history = model.fit(X_train, y_train, epochs=100,\n",
    "                   validation_data = (X_valid, y_valid),\n",
    "                   callbacks=[checkpoint_cb_best_model, early_stopping_cb],\n",
    "                   batch_size=100)\n",
    "#  Instead of creating a validation data and passing it other wise we could also set the \n",
    "# validation_split=0.1 (10%) tell keras to use 10% of the data for validation\n",
    "# class_weight gives more weight to underpresent clasees and vice versa\n",
    "# Use batch_size to change the number of samples per gradient descent default = 32\n",
    "# Using history parameter\n",
    "plt.style.use('ggplot')\n",
    "pd.DataFrame(history.history).plot(figsize=(8,6))\n",
    "plt.title('The mean training loss and accuracy at each epoch')\n",
    "plt.xlabel('EPOCH(Iteration)')\n",
    "plt.grid(True)\n",
    "plt.gca().set_ylim(0,1) # Set the vertical range to [0-1]\n",
    "plt.show()"
   ]
  },
  {
   "cell_type": "code",
   "execution_count": null,
   "metadata": {
    "ExecuteTime": {
     "end_time": "2020-09-13T14:20:56.283459Z",
     "start_time": "2020-09-13T14:20:56.069447Z"
    }
   },
   "outputs": [],
   "source": []
  },
  {
   "cell_type": "code",
   "execution_count": 15,
   "metadata": {
    "ExecuteTime": {
     "end_time": "2020-09-13T14:56:46.380199Z",
     "start_time": "2020-09-13T14:56:45.913198Z"
    }
   },
   "outputs": [
    {
     "name": "stdout",
     "output_type": "stream",
     "text": [
      "10000/10000 [==============================] - 0s 43us/sample - loss: 13.1126 - accuracy: 0.9744\n"
     ]
    },
    {
     "data": {
      "text/plain": [
       "[13.112643292152882, 0.9744]"
      ]
     },
     "execution_count": 15,
     "metadata": {},
     "output_type": "execute_result"
    }
   ],
   "source": [
    "## Evaluating the model on the test data\n",
    "model.evaluate(X_test, y_test)"
   ]
  },
  {
   "cell_type": "code",
   "execution_count": 16,
   "metadata": {
    "ExecuteTime": {
     "end_time": "2020-09-13T14:56:46.453197Z",
     "start_time": "2020-09-13T14:56:46.381197Z"
    }
   },
   "outputs": [],
   "source": [
    "# Using the model to make prediction\n",
    "X_new = X_test[:3]\n",
    "y_proba = model.predict(X_new)"
   ]
  },
  {
   "cell_type": "code",
   "execution_count": 17,
   "metadata": {
    "ExecuteTime": {
     "end_time": "2020-09-13T14:56:46.460238Z",
     "start_time": "2020-09-13T14:56:46.454196Z"
    }
   },
   "outputs": [
    {
     "data": {
      "text/plain": [
       "array([[0., 0., 0., 0., 0., 0., 0., 1., 0., 0.],\n",
       "       [0., 0., 1., 0., 0., 0., 0., 0., 0., 0.],\n",
       "       [0., 1., 0., 0., 0., 0., 0., 0., 0., 0.]], dtype=float32)"
      ]
     },
     "execution_count": 17,
     "metadata": {},
     "output_type": "execute_result"
    }
   ],
   "source": [
    "# As you can see the for each instance the model estimates one probability per class from 0 to 9\n",
    "# ex. in the second case its prob is 100% on index 2 meaning the value is 2 \n",
    "y_proba.round(2)"
   ]
  },
  {
   "cell_type": "code",
   "execution_count": 18,
   "metadata": {
    "ExecuteTime": {
     "end_time": "2020-09-13T14:56:46.502229Z",
     "start_time": "2020-09-13T14:56:46.463194Z"
    }
   },
   "outputs": [
    {
     "data": {
      "text/plain": [
       "array(['seven', 'two', 'one'], dtype='<U5')"
      ]
     },
     "execution_count": 18,
     "metadata": {},
     "output_type": "execute_result"
    }
   ],
   "source": [
    "# To find the classes with the highest probability use predict_classes\n",
    "y_pred = model.predict_classes(X_new)\n",
    "y_pred\n",
    "y_pred_string = np.array(class_names)[y_pred]\n",
    "y_pred_string               # to use y_pred as index to the class_name list"
   ]
  },
  {
   "cell_type": "code",
   "execution_count": 19,
   "metadata": {
    "ExecuteTime": {
     "end_time": "2020-09-13T14:56:46.509196Z",
     "start_time": "2020-09-13T14:56:46.504199Z"
    }
   },
   "outputs": [
    {
     "data": {
      "text/plain": [
       "array([7, 2, 1], dtype=uint8)"
      ]
     },
     "execution_count": 19,
     "metadata": {},
     "output_type": "execute_result"
    }
   ],
   "source": [
    "# Here are the actual values of the images using the test set\n",
    "y_new = y_test[:3]\n",
    "y_new"
   ]
  },
  {
   "cell_type": "code",
   "execution_count": 20,
   "metadata": {
    "ExecuteTime": {
     "end_time": "2020-09-13T14:56:46.797230Z",
     "start_time": "2020-09-13T14:56:46.511196Z"
    }
   },
   "outputs": [
    {
     "data": {
      "image/png": "[encoded data removed]",
      "text/plain": [
       "<Figure size 864x432 with 3 Axes>"
      ]
     },
     "metadata": {},
     "output_type": "display_data"
    }
   ],
   "source": [
    "# Here we can see the image with the value it has predicted\n",
    "fig, ax = plt.subplots(1,3,figsize=(12,6))\n",
    "for axs,j,k in zip(ax.flat,X_new[:3],[0,1,2]):\n",
    "    axs.imshow(j)\n",
    "    axs.grid(False,)\n",
    "    axs.set_title(f'Predicted: {y_pred_string[k]}',color='red')\n",
    "plt.show()"
   ]
  },
  {
   "cell_type": "code",
   "execution_count": 21,
   "metadata": {
    "ExecuteTime": {
     "end_time": "2020-09-13T14:56:46.804197Z",
     "start_time": "2020-09-13T14:56:46.799197Z"
    }
   },
   "outputs": [],
   "source": [
    "# Now lets create a function which will ask for a random number pixel in the test dataset\n",
    "# and will return its test_data pixel image and the value predicted for it\n",
    "def get_image(model, X_test, class_names):\n",
    "    inp = input(f'Input a random index value from the test dataset less than  {len(X_test)} : ' )\n",
    "    try:\n",
    "        inp = int(inp)\n",
    "    except :\n",
    "        print('The value given is not an integer ')\n",
    "    if inp > 100000:\n",
    "        print('The number is greater than 100000')\n",
    "    else:\n",
    "        X_new = X_test[inp:inp+1]\n",
    "        y_pred = model.predict_classes(X_new)\n",
    "        y_pred_string = np.array(class_names)[y_pred]\n",
    "        plt.imshow(X_new[0])\n",
    "        plt.grid(False,)\n",
    "        plt.title(f'Predicted: {y_pred_string}',color='red')\n",
    "        plt.show()\n"
   ]
  },
  {
   "cell_type": "code",
   "execution_count": 22,
   "metadata": {
    "ExecuteTime": {
     "end_time": "2020-09-13T14:57:09.223912Z",
     "start_time": "2020-09-13T14:56:46.807230Z"
    }
   },
   "outputs": [
    {
     "name": "stdout",
     "output_type": "stream",
     "text": [
      "Input a random index value from the test dataset less than  10000 : 454\n"
     ]
    },
    {
     "data": {
      "image/png": "[encoded data removed]",
      "text/plain": [
       "<Figure size 432x288 with 1 Axes>"
      ]
     },
     "metadata": {},
     "output_type": "display_data"
    }
   ],
   "source": [
    "# Calling the function for different with inputting different values of index \n",
    "get_image(model, X_test, class_names)"
   ]
  },
  {
   "cell_type": "code",
   "execution_count": null,
   "metadata": {
    "ExecuteTime": {
     "end_time": "2020-09-13T14:51:47.622725Z",
     "start_time": "2020-09-13T14:51:47.618723Z"
    }
   },
   "outputs": [],
   "source": []
  },
  {
   "cell_type": "code",
   "execution_count": null,
   "metadata": {},
   "outputs": [],
   "source": []
  }
 ],
 "metadata": {
  "kernelspec": {
   "display_name": "Python 3",
   "language": "python",
   "name": "python3"
  },
  "language_info": {
   "codemirror_mode": {
    "name": "ipython",
    "version": 3
   },
   "file_extension": ".py",
   "mimetype": "text/x-python",
   "name": "python",
   "nbconvert_exporter": "python",
   "pygments_lexer": "ipython3",
   "version": "3.7.9"
  }
 },
 "nbformat": 4,
 "nbformat_minor": 4
}
